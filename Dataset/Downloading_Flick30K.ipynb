{
  "nbformat": 4,
  "nbformat_minor": 0,
  "metadata": {
    "colab": {
      "name": "Downloading_Flick30K.ipynb",
      "provenance": [],
      "authorship_tag": "ABX9TyNO/+5ywnYYuyFcRi7v6wtH",
      "include_colab_link": true
    },
    "kernelspec": {
      "name": "python3",
      "display_name": "Python 3"
    },
    "language_info": {
      "name": "python"
    }
  },
  "cells": [
    {
      "cell_type": "markdown",
      "metadata": {
        "id": "view-in-github",
        "colab_type": "text"
      },
      "source": [
        "<a href=\"https://colab.research.google.com/github/adeepH/Multimodal-Machine-Translation/blob/main/Dataset/Downloading_Flick30K.ipynb\" target=\"_parent\"><img src=\"https://colab.research.google.com/assets/colab-badge.svg\" alt=\"Open In Colab\"/></a>"
      ]
    },
    {
      "cell_type": "code",
      "metadata": {
        "id": "hAZMiJ6dAKtx"
      },
      "source": [
        "import os\n",
        "import shutil\n",
        "import zipfile\n",
        "import tarfile\n",
        "import torch\n",
        "from torch.utils.data import Dataset, DataLoader"
      ],
      "execution_count": 3,
      "outputs": []
    },
    {
      "cell_type": "code",
      "metadata": {
        "colab": {
          "base_uri": "https://localhost:8080/"
        },
        "id": "3h4_d1QwWMdT",
        "outputId": "6e108197-1103-4335-c602-24fc5c362232"
      },
      "source": [
        "!wget https://zenodo.org/record/4765597/files/flickr30k_images.tar.gz -O flickr30k_images.tar.gz"
      ],
      "execution_count": 10,
      "outputs": [
        {
          "output_type": "stream",
          "text": [
            "--2021-05-23 05:23:19--  https://zenodo.org/record/4765597/files/flickr30k_images.tar.gz\n",
            "Resolving zenodo.org (zenodo.org)... 137.138.76.77\n",
            "Connecting to zenodo.org (zenodo.org)|137.138.76.77|:443... connected.\n",
            "HTTP request sent, awaiting response... 200 OK\n",
            "Length: 4378369370 (4.1G) [application/octet-stream]\n",
            "Saving to: ‘flickr30k_images.tar.gz’\n",
            "\n",
            "flickr30k_images.ta 100%[===================>]   4.08G  15.8MB/s    in 6m 58s  \n",
            "\n",
            "2021-05-23 05:30:18 (9.99 MB/s) - ‘flickr30k_images.tar.gz’ saved [4378369370/4378369370]\n",
            "\n"
          ],
          "name": "stdout"
        }
      ]
    },
    {
      "cell_type": "code",
      "metadata": {
        "colab": {
          "base_uri": "https://localhost:8080/"
        },
        "id": "OkEkqULDZOuf",
        "outputId": "f1360d21-7c10-48df-b811-aa1b10942c96"
      },
      "source": [
        "!wget https://zenodo.org/record/4765597/files/image_splits.zip -O image_splits.zip"
      ],
      "execution_count": 32,
      "outputs": [
        {
          "output_type": "stream",
          "text": [
            "--2021-05-23 06:10:22--  https://zenodo.org/record/4765597/files/image_splits.zip\n",
            "Resolving zenodo.org (zenodo.org)... 137.138.76.77\n",
            "Connecting to zenodo.org (zenodo.org)|137.138.76.77|:443... connected.\n",
            "HTTP request sent, awaiting response... 200 OK\n",
            "Length: 162101 (158K) [application/octet-stream]\n",
            "Saving to: ‘image_splits.zip’\n",
            "\n",
            "image_splits.zip    100%[===================>] 158.30K   335KB/s    in 0.5s    \n",
            "\n",
            "2021-05-23 06:10:25 (335 KB/s) - ‘image_splits.zip’ saved [162101/162101]\n",
            "\n"
          ],
          "name": "stdout"
        }
      ]
    },
    {
      "cell_type": "code",
      "metadata": {
        "colab": {
          "base_uri": "https://localhost:8080/"
        },
        "id": "7mwcE5mbbHA2",
        "outputId": "52d9d60e-748d-4991-bb5c-f7053e8d0130"
      },
      "source": [
        "from google.colab import drive\n",
        "drive.mount('/content/drive',force_remount=True)"
      ],
      "execution_count": 2,
      "outputs": [
        {
          "output_type": "stream",
          "text": [
            "Mounted at /content/drive\n"
          ],
          "name": "stdout"
        }
      ]
    },
    {
      "cell_type": "code",
      "metadata": {
        "id": "OgU9C1uAwj3J"
      },
      "source": [
        "path ='/content/drive/MyDrive/Multimodal_Machine_Translation/' \n",
        "root = '/content/'\n",
        "if path not in os.listdir(root):\n",
        "    os.mkdir(path)"
      ],
      "execution_count": null,
      "outputs": []
    },
    {
      "cell_type": "code",
      "metadata": {
        "colab": {
          "base_uri": "https://localhost:8080/"
        },
        "id": "ToLyRlk6CUgR",
        "outputId": "efa1305c-3c31-4722-d230-862b211891ed"
      },
      "source": [
        "os.listdir(path)"
      ],
      "execution_count": 9,
      "outputs": [
        {
          "output_type": "execute_result",
          "data": {
            "text/plain": [
              "['flickr30k_images', '.ipynb_checkpoints', 'Image_Splits']"
            ]
          },
          "metadata": {
            "tags": []
          },
          "execution_count": 9
        }
      ]
    },
    {
      "cell_type": "code",
      "metadata": {
        "colab": {
          "base_uri": "https://localhost:8080/"
        },
        "id": "UMaXL4-Ox7zM",
        "outputId": "c89668f7-f3f1-41c4-a7c2-246ba181cc55"
      },
      "source": [
        "cd /content/drive/MyDrive/Multimodal_Machine_Translation/"
      ],
      "execution_count": 10,
      "outputs": [
        {
          "output_type": "stream",
          "text": [
            "/content/drive/MyDrive/Multimodal_Machine_Translation\n"
          ],
          "name": "stdout"
        }
      ]
    },
    {
      "cell_type": "code",
      "metadata": {
        "id": "2yXpn3PoxklX"
      },
      "source": [
        "import tarfile  \n",
        "# open file\n",
        "file = tarfile.open('/content/flickr30k_images.tar.gz')\n",
        "  \n",
        "# extracting file\n",
        "file.extractall('./Flickr30K_Images')\n",
        "  \n",
        "file.close()"
      ],
      "execution_count": 31,
      "outputs": []
    },
    {
      "cell_type": "code",
      "metadata": {
        "id": "2Vdt6h9tZ9-G"
      },
      "source": [
        "with ZipFile('/content/image_splits.zip', 'r') as f:\n",
        "    f.extractall('./Image_splits')"
      ],
      "execution_count": 36,
      "outputs": []
    }
  ]
}